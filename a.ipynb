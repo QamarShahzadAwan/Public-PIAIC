{
 "cells": [
  {
   "cell_type": "code",
   "execution_count": 1,
   "metadata": {},
   "outputs": [
    {
     "name": "stdout",
     "output_type": "stream",
     "text": [
      "Basit\n",
      "Tayyab\n",
      "Munawar\n",
      "Shahbaz\n",
      "Ahmad\n"
     ]
    }
   ],
   "source": [
    "# Exercise 3-1: Names\n",
    "names = [\"Basit\",\"Tayyab\",\"Munawar\",\"Shahbaz\",\"Ahmad\"]\n",
    "for name in names:\n",
    "  print(name)"
   ]
  },
  {
   "cell_type": "code",
   "execution_count": 2,
   "metadata": {},
   "outputs": [
    {
     "name": "stdout",
     "output_type": "stream",
     "text": [
      "Hello, Basit! Hope you are doing well!\n",
      "Hello, Tayyab! Hope you are doing well!\n",
      "Hello, Munawar! Hope you are doing well!\n",
      "Hello, Shahbaz! Hope you are doing well!\n",
      "Hello, Ahmad! Hope you are doing well!\n"
     ]
    }
   ],
   "source": [
    "# Exercise 3-2: Greetings\n",
    "names = [\"Basit\",\"Tayyab\",\"Munawar\",\"Shahbaz\",\"Ahmad\"]\n",
    "for name in names:\n",
    "    print(f\"Hello, {name}! Hope you are doing well!\")"
   ]
  },
  {
   "cell_type": "code",
   "execution_count": 3,
   "metadata": {},
   "outputs": [
    {
     "name": "stdout",
     "output_type": "stream",
     "text": [
      "I would like to own a Toyota.\n",
      "I would like to own a Honda.\n",
      "I would like to own a Huandai.\n",
      "I would like to own a Suzuki.\n"
     ]
    }
   ],
   "source": [
    "# Exercise 3-3: Your Own List\n",
    "Fav_Vehicles = [\"Toyota\", \"Honda\", \"Huandai\", \"Suzuki\"]\n",
    "for vehicle in Fav_Vehicles:\n",
    "    print(f\"I would like to own a {vehicle}.\")"
   ]
  },
  {
   "cell_type": "code",
   "execution_count": 4,
   "metadata": {},
   "outputs": [
    {
     "name": "stdout",
     "output_type": "stream",
     "text": [
      "Dear Basit, you are cordially invited to dinner at PCOM. It would be a great honour for me!\n",
      "Dear Tayyab, you are cordially invited to dinner at PCOM. It would be a great honour for me!\n",
      "Dear Munawar, you are cordially invited to dinner at PCOM. It would be a great honour for me!\n",
      "Dear Ahmad, you are cordially invited to dinner at PCOM. It would be a great honour for me!\n"
     ]
    }
   ],
   "source": [
    "# Exercise 3-4: Guest List\n",
    "dinner_guests = [\"Basit\", \"Tayyab\", \"Munawar\",\"Ahmad\"]\n",
    "for guest in dinner_guests:\n",
    "    print(f\"Dear {guest}, you are cordially invited to dinner at PCOM. It would be a great honour for me!\")"
   ]
  },
  {
   "cell_type": "code",
   "execution_count": 5,
   "metadata": {},
   "outputs": [
    {
     "name": "stdout",
     "output_type": "stream",
     "text": [
      "Unfortunately, Munawar can't make it to dinner at PCOM.\n",
      "\n",
      "Here are the updated invitations:\n",
      "Dear Basit, you are cordially invited to dinner at PCOM. It would be a great honour for me!\n",
      "Dear Tayyab, you are cordially invited to dinner at PCOM. It would be a great honour for me!\n",
      "Dear Nadeem, you are cordially invited to dinner at PCOM. It would be a great honour for me!\n",
      "Dear Ahmad, you are cordially invited to dinner at PCOM. It would be a great honour for me!\n"
     ]
    }
   ],
   "source": [
    "# Exercise 3-5: Changing Guest List\n",
    "dinner_guests = [\"Basit\", \"Tayyab\", \"Munawar\", \"Ahmad\"]\n",
    "print(f\"Unfortunately, {dinner_guests[2]} can't make it to dinner at PCOM.\")\n",
    "dinner_guests[2] = \"Nadeem\"\n",
    "print(\"\\nHere are the updated invitations:\")\n",
    "for guest in dinner_guests:\n",
    "    print(f\"Dear {guest}, you are cordially invited to dinner at PCOM. It would be a great honour for me!\")"
   ]
  },
  {
   "cell_type": "code",
   "execution_count": 6,
   "metadata": {},
   "outputs": [
    {
     "name": "stdout",
     "output_type": "stream",
     "text": [
      "Unfortunately, Munawar can't make it to dinner at PCOM.\n",
      "Great news! I found a bigger dinner table, so I can invite more guests.\n",
      "Dear Khadija, you are cordially invited to dinner at PCOM. It would be a great honour for me!\n",
      "Dear Basit, you are cordially invited to dinner at PCOM. It would be a great honour for me!\n",
      "Dear Fariha, you are cordially invited to dinner at PCOM. It would be a great honour for me!\n",
      "Dear Tayyab, you are cordially invited to dinner at PCOM. It would be a great honour for me!\n",
      "Dear Munawar, you are cordially invited to dinner at PCOM. It would be a great honour for me!\n",
      "Dear Ahmad, you are cordially invited to dinner at PCOM. It would be a great honour for me!\n",
      "Dear Sheema, you are cordially invited to dinner at PCOM. It would be a great honour for me!\n"
     ]
    }
   ],
   "source": [
    "# Exercise 3-6: More Guests\n",
    "dinner_guests = [\"Basit\", \"Tayyab\", \"Munawar\", \"Ahmad\"]\n",
    "print(f\"Unfortunately, {dinner_guests[2]} can't make it to dinner at PCOM.\")\n",
    "print(\"Great news! I found a bigger dinner table, so I can invite more guests.\")\n",
    "dinner_guests.insert(0, \"Khadija\")\n",
    "dinner_guests.insert(len(dinner_guests) // 2, \"Fariha\")\n",
    "dinner_guests.append(\"Sheema\")\n",
    "for guest in dinner_guests:\n",
    "    print(f\"Dear {guest}, you are cordially invited to dinner at PCOM. It would be a great honour for me!\")"
   ]
  },
  {
   "cell_type": "code",
   "execution_count": 7,
   "metadata": {},
   "outputs": [
    {
     "name": "stdout",
     "output_type": "stream",
     "text": [
      "Unfortunately, my new dinner table won't arrive in time, so I can invite only two people for dinner.\n",
      "Dear Sheema, I’m sorry to let you know that I can’t invite you to dinner due to limited space.\n",
      "Dear Ahmad, I’m sorry to let you know that I can’t invite you to dinner due to limited space.\n",
      "Dear Munawar, I’m sorry to let you know that I can’t invite you to dinner due to limited space.\n",
      "Dear Tayyab, I’m sorry to let you know that I can’t invite you to dinner due to limited space.\n",
      "Dear Fariha, I’m sorry to let you know that I can’t invite you to dinner due to limited space.\n",
      "Dear Basit, I’m sorry to let you know that I can’t invite you to dinner due to limited space.\n",
      "\n",
      "Here are the final invitations:\n",
      "Dear Khadija, you are still invited to dinner. I look forward to seeing you!\n",
      "Dear , you are still invited to dinner. I look forward to seeing you!\n",
      "\n",
      "Final guest list: []\n"
     ]
    }
   ],
   "source": [
    "# Exercise 3-7: Shrinking Guest List\n",
    "dinner_guests = [\"Khadija\", \"\", \"Basit\", \"Fariha\", \"Tayyab\", \"Munawar\", \"Ahmad\", \"Sheema\"]\n",
    "print(\"Unfortunately, my new dinner table won't arrive in time, so I can invite only two people for dinner.\")\n",
    "while len(dinner_guests) > 2:\n",
    "    removed_guest = dinner_guests.pop()\n",
    "    print(f\"Dear {removed_guest}, I’m sorry to let you know that I can’t invite you to dinner due to limited space.\")\n",
    "\n",
    "print(\"\\nHere are the final invitations:\")\n",
    "for guest in dinner_guests:\n",
    "    print(f\"Dear {guest}, you are still invited to dinner. I look forward to seeing you!\")\n",
    "del dinner_guests[0]\n",
    "del dinner_guests[0]\n",
    "print(\"\\nFinal guest list:\", dinner_guests)"
   ]
  },
  {
   "cell_type": "code",
   "execution_count": 8,
   "metadata": {},
   "outputs": [
    {
     "name": "stdout",
     "output_type": "stream",
     "text": [
      "Original list: ['Karachi', 'Islamabad', 'Faisalabad', 'Quetta', 'Kalabagh']\n",
      "Alphabetical order: ['Faisalabad', 'Islamabad', 'Kalabagh', 'Karachi', 'Quetta']\n",
      "Still original list: ['Karachi', 'Islamabad', 'Faisalabad', 'Quetta', 'Kalabagh']\n",
      "Reverse-alphabetical order: ['Quetta', 'Karachi', 'Kalabagh', 'Islamabad', 'Faisalabad']\n",
      "Still original list: ['Karachi', 'Islamabad', 'Faisalabad', 'Quetta', 'Kalabagh']\n",
      "List after reverse(): ['Kalabagh', 'Quetta', 'Faisalabad', 'Islamabad', 'Karachi']\n",
      "List after reverse() again: ['Karachi', 'Islamabad', 'Faisalabad', 'Quetta', 'Kalabagh']\n",
      "List after sort() (alphabetical): ['Faisalabad', 'Islamabad', 'Kalabagh', 'Karachi', 'Quetta']\n",
      "List after sort() (reverse-alphabetical): ['Quetta', 'Karachi', 'Kalabagh', 'Islamabad', 'Faisalabad']\n"
     ]
    }
   ],
   "source": [
    "# Exercise 3-8: Seeing the World\n",
    "places = [\"Karachi\", \"Islamabad\", \"Faisalabad\", \"Quetta\", \"Kalabagh\"]\n",
    "print(\"Original list:\", places)\n",
    "\n",
    "print(\"Alphabetical order:\", sorted(places))\n",
    "\n",
    "print(\"Still original list:\", places)\n",
    "\n",
    "print(\"Reverse-alphabetical order:\", sorted(places, reverse=True))\n",
    "\n",
    "print(\"Still original list:\", places)\n",
    "\n",
    "places.reverse()\n",
    "print(\"List after reverse():\", places)\n",
    "\n",
    "places.reverse()\n",
    "print(\"List after reverse() again:\", places)\n",
    "\n",
    "places.sort()\n",
    "print(\"List after sort() (alphabetical):\", places)\n",
    "\n",
    "places.sort(reverse=True)\n",
    "print(\"List after sort() (reverse-alphabetical):\", places)"
   ]
  },
  {
   "cell_type": "code",
   "execution_count": 9,
   "metadata": {},
   "outputs": [
    {
     "name": "stdout",
     "output_type": "stream",
     "text": [
      "Great news! I found a bigger dinner table, so I can invite more guests.\n",
      "\n",
      "Here are the updated invitations:\n",
      "Dear Marie Curie, you are cordially invited to dinner. I would be honored to have your company!\n",
      "Dear Nikola Tesla, you are cordially invited to dinner. I would be honored to have your company!\n",
      "Dear Albert Einstein, you are cordially invited to dinner. I would be honored to have your company!\n",
      "Dear Isaac Newton, you are cordially invited to dinner. I would be honored to have your company!\n",
      "Dear Cleopatra, you are cordially invited to dinner. I would be honored to have your company!\n",
      "Dear Maya Angelou, you are cordially invited to dinner. I would be honored to have your company!\n",
      "Dear Leonardo da Vinci, you are cordially invited to dinner. I would be honored to have your company!\n",
      "Dear Ada Lovelace, you are cordially invited to dinner. I would be honored to have your company!\n",
      "Dear Galileo Galilei, you are cordially invited to dinner. I would be honored to have your company!\n",
      "\n",
      "I am inviting 9 people to dinner.\n"
     ]
    }
   ],
   "source": [
    "# Exercise 3-9: Dinner Guests\n",
    "dinner_guests = [\"Nikola Tesla\", \"Albert Einstein\", \"Cleopatra\", \"Maya Angelou\", \"Leonardo da Vinci\", \"Ada Lovelace\"]\n",
    "\n",
    "print(\"Great news! I found a bigger dinner table, so I can invite more guests.\")\n",
    "\n",
    "dinner_guests.insert(0, \"Marie Curie\")  \n",
    "dinner_guests.insert(len(dinner_guests) // 2, \"Isaac Newton\")  \n",
    "dinner_guests.append(\"Galileo Galilei\")  \n",
    "\n",
    "print(\"\\nHere are the updated invitations:\")\n",
    "for guest in dinner_guests:\n",
    "    print(f\"Dear {guest}, you are cordially invited to dinner. I would be honored to have your company!\")\n",
    "\n",
    "print(f\"\\nI am inviting {len(dinner_guests)} people to dinner.\")"
   ]
  },
  {
   "cell_type": "code",
   "execution_count": 12,
   "metadata": {},
   "outputs": [
    {
     "name": "stdout",
     "output_type": "stream",
     "text": [
      "Original list of mountains: ['Everest', 'K2', 'Kilimanjaro', 'Denali', 'Elbrus']\n",
      "\n",
      "The first mountain in the list is: Everest\n",
      "The last mountain in the list is: Elbrus\n",
      "\n",
      "After appending a mountain: ['Everest', 'K2', 'Kilimanjaro', 'Denali', 'Elbrus', 'Mont Blanc']\n",
      "After inserting a mountain at index 2: ['Everest', 'K2', 'Aconcagua', 'Kilimanjaro', 'Denali', 'Elbrus', 'Mont Blanc']\n",
      "\n",
      "After removing 'K2': ['Everest', 'Aconcagua', 'Kilimanjaro', 'Denali', 'Elbrus', 'Mont Blanc']\n",
      "After popping the mountain at index 3 (Denali): ['Everest', 'Aconcagua', 'Kilimanjaro', 'Elbrus', 'Mont Blanc']\n",
      "\n",
      "Mountains sorted temporarily: ['Aconcagua', 'Elbrus', 'Everest', 'Kilimanjaro', 'Mont Blanc']\n",
      "Original list remains unchanged: ['Everest', 'Aconcagua', 'Kilimanjaro', 'Elbrus', 'Mont Blanc']\n",
      "\n",
      "After sorting the list permanently (alphabetical): ['Aconcagua', 'Elbrus', 'Everest', 'Kilimanjaro', 'Mont Blanc']\n",
      "After sorting the list permanently in reverse-alphabetical order: ['Mont Blanc', 'Kilimanjaro', 'Everest', 'Elbrus', 'Aconcagua']\n",
      "\n",
      "After reversing the order of the list: ['Aconcagua', 'Elbrus', 'Everest', 'Kilimanjaro', 'Mont Blanc']\n",
      "\n",
      "The total number of mountains in the list is: 5\n"
     ]
    }
   ],
   "source": [
    "# Exercise 3-10: Every Function\n",
    "# List of mountains\n",
    "mountains = [\"Everest\", \"K2\", \"Kilimanjaro\", \"Denali\", \"Elbrus\"]\n",
    "\n",
    "# Print the original list\n",
    "print(\"Original list of mountains:\", mountains)\n",
    "\n",
    "# Accessing elements from the list\n",
    "print(\"\\nThe first mountain in the list is:\", mountains[0])\n",
    "print(\"The last mountain in the list is:\", mountains[-1])\n",
    "\n",
    "# Adding elements to the list\n",
    "mountains.append(\"Mont Blanc\")\n",
    "print(\"\\nAfter appending a mountain:\", mountains)\n",
    "\n",
    "# Inserting elements into the list\n",
    "mountains.insert(2, \"Aconcagua\")\n",
    "print(\"After inserting a mountain at index 2:\", mountains)\n",
    "\n",
    "# Removing elements from the list by value\n",
    "mountains.remove(\"K2\")\n",
    "print(\"\\nAfter removing 'K2':\", mountains)\n",
    "\n",
    "# Removing elements from the list by index\n",
    "removed_mountain = mountains.pop(3)\n",
    "print(f\"After popping the mountain at index 3 ({removed_mountain}):\", mountains)\n",
    "\n",
    "# Sorting the list temporarily\n",
    "print(\"\\nMountains sorted temporarily:\", sorted(mountains))\n",
    "print(\"Original list remains unchanged:\", mountains)\n",
    "\n",
    "# Sorting the list permanently\n",
    "mountains.sort()\n",
    "print(\"\\nAfter sorting the list permanently (alphabetical):\", mountains)\n",
    "\n",
    "# Sorting the list permanently in reverse order\n",
    "mountains.sort(reverse=True)\n",
    "print(\"After sorting the list permanently in reverse-alphabetical order:\", mountains)\n",
    "\n",
    "# Reversing the order of the list\n",
    "mountains.reverse()\n",
    "print(\"\\nAfter reversing the order of the list:\", mountains)\n",
    "\n",
    "# Finding the length of the list\n",
    "print(\"\\nThe total number of mountains in the list is:\", len(mountains))"
   ]
  },
  {
   "cell_type": "code",
   "execution_count": 13,
   "metadata": {},
   "outputs": [
    {
     "name": "stdout",
     "output_type": "stream",
     "text": [
      "\n",
      "Attempting to access an index that doesn't exist:\n",
      "IndexError caught: list index out of range\n",
      "\n",
      "Accessing a valid index instead:\n",
      "The last mountain in the list is: Elbrus\n"
     ]
    }
   ],
   "source": [
    "# Exercise 3-11: Intentional Error\n",
    "mountains = [\"Everest\", \"K2\", \"Kilimanjaro\", \"Denali\", \"Elbrus\"]\n",
    "\n",
    "# Deliberately causing an IndexError by trying to access an out-of-range index\n",
    "try:\n",
    "    print(\"\\nAttempting to access an index that doesn't exist:\")\n",
    "    print(mountains[10])  # Index 10 doesn't exist\n",
    "except IndexError as e:\n",
    "    print(f\"IndexError caught: {e}\")\n",
    "\n",
    "# Correcting the error by accessing a valid index\n",
    "print(\"\\nAccessing a valid index instead:\")\n",
    "print(\"The last mountain in the list is:\", mountains[-1])"
   ]
  }
 ],
 "metadata": {
  "kernelspec": {
   "display_name": "Python 3",
   "language": "python",
   "name": "python3"
  },
  "language_info": {
   "codemirror_mode": {
    "name": "ipython",
    "version": 3
   },
   "file_extension": ".py",
   "mimetype": "text/x-python",
   "name": "python",
   "nbconvert_exporter": "python",
   "pygments_lexer": "ipython3",
   "version": "3.13.1"
  }
 },
 "nbformat": 4,
 "nbformat_minor": 2
}
